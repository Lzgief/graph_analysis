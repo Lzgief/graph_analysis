{
 "cells": [
  {
   "cell_type": "code",
   "execution_count": 1,
   "metadata": {},
   "outputs": [
    {
     "ename": "ModuleNotFoundError",
     "evalue": "No module named 'lief'",
     "output_type": "error",
     "traceback": [
      "\u001b[0;31m---------------------------------------------------------------------------\u001b[0m",
      "\u001b[0;31mModuleNotFoundError\u001b[0m                       Traceback (most recent call last)",
      "\u001b[0;32m<ipython-input-1-e88a545f9e1f>\u001b[0m in \u001b[0;36m<module>\u001b[0;34m\u001b[0m\n\u001b[0;32m----> 1\u001b[0;31m \u001b[0;32mimport\u001b[0m \u001b[0mlief\u001b[0m\u001b[0;34m\u001b[0m\u001b[0;34m\u001b[0m\u001b[0m\n\u001b[0m\u001b[1;32m      2\u001b[0m \u001b[0;32mimport\u001b[0m \u001b[0mos\u001b[0m\u001b[0;34m\u001b[0m\u001b[0;34m\u001b[0m\u001b[0m\n\u001b[1;32m      3\u001b[0m \u001b[0;32mimport\u001b[0m \u001b[0mnetworkx\u001b[0m \u001b[0;32mas\u001b[0m \u001b[0mnx\u001b[0m\u001b[0;34m\u001b[0m\u001b[0;34m\u001b[0m\u001b[0m\n\u001b[1;32m      4\u001b[0m \u001b[0;32mfrom\u001b[0m \u001b[0mlief\u001b[0m\u001b[0;34m.\u001b[0m\u001b[0mELF\u001b[0m \u001b[0;32mimport\u001b[0m \u001b[0mDYNAMIC_TAGS\u001b[0m\u001b[0;34m\u001b[0m\u001b[0;34m\u001b[0m\u001b[0m\n",
      "\u001b[0;31mModuleNotFoundError\u001b[0m: No module named 'lief'"
     ]
    }
   ],
   "source": [
    "import lief\n",
    "import os\n",
    "import networkx as nx\n",
    "from lief.ELF import DYNAMIC_TAGS"
   ]
  },
  {
   "cell_type": "code",
   "execution_count": 6,
   "metadata": {},
   "outputs": [
    {
     "name": "stdout",
     "output_type": "stream",
     "text": [
      "NEEDED              1         libpthread.so.0\n",
      "NEEDED              df        libstdc++.so.6\n",
      "NEEDED              754       libm.so.6 \n",
      "NEEDED              75e       libgcc_s.so.1\n",
      "NEEDED              77b       libc.so.6 \n",
      "INIT                2ef0      \n",
      "FINI                289c4     \n",
      "INIT_ARRAY          2346a0    [0x3d40, 0x3eb0]\n",
      "INIT_ARRAYSZ        10        \n",
      "FINI_ARRAY          2346b0    [0x3e70]\n",
      "FINI_ARRAYSZ        8         \n",
      "GNU_HASH            298       \n",
      "STRTAB              1078      \n",
      "SYMTAB              2e0       \n",
      "STRSZ               9dd       \n",
      "SYMENT              18        \n",
      "DEBUG               0         \n",
      "PLTGOT              234b80    \n",
      "PLTRELSZ            ba0       \n",
      "PLTREL              7         \n",
      "JMPREL              2350      \n",
      "RELA                1c48      \n",
      "RELASZ              708       \n",
      "RELAENT             18        \n",
      "BIND_NOW            0         \n",
      "FLAGS_1             1          NOW\n",
      "VERNEED             1b78      \n",
      "VERNEEDNUM          4         \n",
      "VERSYM              1a56      \n",
      "RELACOUNT           33        \n",
      "NULL                0         \n",
      "NULL                0         \n",
      "NULL                0         \n",
      "NULL                0         \n",
      "NULL                0         \n"
     ]
    }
   ],
   "source": [
    "elf = lief.parse(\"/bin/zoom\")\n",
    "for entr in elf.dynamic_entries:\n",
    "    print(entr)"
   ]
  },
  {
   "cell_type": "code",
   "execution_count": 2,
   "metadata": {},
   "outputs": [
    {
     "data": {
      "text/plain": [
       "['linux-vdso.so.1',\n",
       " '/usr/lib/libgtk-3.so.0',\n",
       " '/usr/lib/libgdk-3.so.0',\n",
       " '/usr/lib/libpangocairo-1.0.so.0',\n",
       " '/usr/lib/libpango-1.0.so.0',\n",
       " '/usr/lib/libatk-1.0.so.0',\n",
       " '/usr/lib/libcairo.so.2',\n",
       " '/usr/lib/libgio-2.0.so.0',\n",
       " '/usr/lib/libgobject-2.0.so.0',\n",
       " '/usr/lib/libglib-2.0.so.0',\n",
       " '/usr/lib/libz.so.1',\n",
       " '/usr/lib/libpcre2-8.so.0',\n",
       " '/usr/lib/libgnutls.so.30',\n",
       " '/usr/lib/libstdc++.so.6',\n",
       " '/usr/lib/libm.so.6',\n",
       " '/usr/lib/libgcc_s.so.1',\n",
       " '/usr/lib/libpthread.so.0',\n",
       " '/usr/lib/libc.so.6',\n",
       " '/usr/lib/libgmodule-2.0.so.0',\n",
       " '/usr/lib/libharfbuzz.so.0',\n",
       " '/usr/lib/libpangoft2-1.0.so.0',\n",
       " '/usr/lib/libfontconfig.so.1',\n",
       " '/usr/lib/libfreetype.so.6',\n",
       " '/usr/lib/libfribidi.so.0',\n",
       " '/usr/lib/libcairo-gobject.so.2',\n",
       " '/usr/lib/libgdk_pixbuf-2.0.so.0',\n",
       " '/usr/lib/libepoxy.so.0',\n",
       " '/usr/lib/libXi.so.6',\n",
       " '/usr/lib/libX11.so.6',\n",
       " '/usr/lib/libatk-bridge-2.0.so.0',\n",
       " '/usr/lib/libcloudproviders.so.0',\n",
       " '/usr/lib/libXfixes.so.3',\n",
       " '/usr/lib/librt.so.1',\n",
       " '/usr/lib/libxkbcommon.so.0',\n",
       " '/usr/lib/libwayland-client.so.0',\n",
       " '/usr/lib/libwayland-cursor.so.0',\n",
       " '/usr/lib/libwayland-egl.so.1',\n",
       " '/usr/lib/libXext.so.6',\n",
       " '/usr/lib/libXcursor.so.1',\n",
       " '/usr/lib/libXdamage.so.1',\n",
       " '/usr/lib/libXcomposite.so.1',\n",
       " '/usr/lib/libXrandr.so.2',\n",
       " '/usr/lib/libXinerama.so.1',\n",
       " '/usr/lib/libthai.so.0',\n",
       " '/usr/lib/libpixman-1.so.0',\n",
       " '/usr/lib/libpng16.so.16',\n",
       " '/usr/lib/libxcb-shm.so.0',\n",
       " '/usr/lib/libxcb.so.1',\n",
       " '/usr/lib/libxcb-render.so.0',\n",
       " '/usr/lib/libXrender.so.1',\n",
       " '/usr/lib/libmount.so.1',\n",
       " '/usr/lib/libresolv.so.2',\n",
       " '/usr/lib/libffi.so.7',\n",
       " '/usr/lib/libpcre.so.1',\n",
       " '/usr/lib/libp11-kit.so.0',\n",
       " '/usr/lib/libidn2.so.0',\n",
       " '/usr/lib/libunistring.so.2',\n",
       " '/usr/lib/libtasn1.so.6',\n",
       " '/usr/lib/libnettle.so.8',\n",
       " '/usr/lib/libhogweed.so.6',\n",
       " '/usr/lib/libgmp.so.10',\n",
       " '/usr/lib64/ld-linux-x86-64.so.2',\n",
       " '/usr/lib/libdl.so.2',\n",
       " '/usr/lib/libgraphite2.so.3',\n",
       " '/usr/lib/libexpat.so.1',\n",
       " '/usr/lib/libbz2.so.1.0',\n",
       " '/usr/lib/libdbus-1.so.3',\n",
       " '/usr/lib/libatspi.so.0',\n",
       " '/usr/lib/libdatrie.so.1',\n",
       " '/usr/lib/libXau.so.6',\n",
       " '/usr/lib/libXdmcp.so.6',\n",
       " '/usr/lib/libblkid.so.1',\n",
       " '/usr/lib/libsystemd.so.0',\n",
       " '/usr/lib/liblzma.so.5',\n",
       " '/usr/lib/libzstd.so.1',\n",
       " '/usr/lib/liblz4.so.1',\n",
       " '/usr/lib/libgcrypt.so.20',\n",
       " '/usr/lib/libgpg-error.so.0']"
      ]
     },
     "execution_count": 2,
     "metadata": {},
     "output_type": "execute_result"
    }
   ],
   "source": [
    "root = \"/bin/arch-audit\"\n",
    "libs = []\n",
    "raw_libs = open(\"libs\")\n",
    "for string in raw_libs:\n",
    "    start = string.find('>')\n",
    "    end = string.find('(')\n",
    "    libs.append(string[start+2:end-1])\n",
    "libs"
   ]
  },
  {
   "cell_type": "code",
   "execution_count": 3,
   "metadata": {},
   "outputs": [],
   "source": [
    "G = nx.Graph()\n",
    "for lib in libs:\n",
    "    G.add_edge(root,lib)\n",
    "    if lib == \"linux-vdso.so.1\":\n",
    "        continue\n",
    "    elf = lief.parse(lib)\n",
    "    for entry in elf.dynamic_entries:\n",
    "        if str(entry)[:6] == \"NEEDED\":\n",
    "            path = 'usr/lib' + str(entry)[30:]\n",
    "            G.add_edge(lib, path)"
   ]
  },
  {
   "cell_type": "code",
   "execution_count": 4,
   "metadata": {
    "scrolled": false
   },
   "outputs": [
    {
     "data": {
      "text/plain": [
       "EdgeView([('/bin/arch-audit', 'linux-vdso.so.1'), ('/bin/arch-audit', '/usr/lib/libgtk-3.so.0'), ('/bin/arch-audit', '/usr/lib/libgdk-3.so.0'), ('/bin/arch-audit', '/usr/lib/libpangocairo-1.0.so.0'), ('/bin/arch-audit', '/usr/lib/libpango-1.0.so.0'), ('/bin/arch-audit', '/usr/lib/libatk-1.0.so.0'), ('/bin/arch-audit', '/usr/lib/libcairo.so.2'), ('/bin/arch-audit', '/usr/lib/libgio-2.0.so.0'), ('/bin/arch-audit', '/usr/lib/libgobject-2.0.so.0'), ('/bin/arch-audit', '/usr/lib/libglib-2.0.so.0'), ('/bin/arch-audit', '/usr/lib/libz.so.1'), ('/bin/arch-audit', '/usr/lib/libpcre2-8.so.0'), ('/bin/arch-audit', '/usr/lib/libgnutls.so.30'), ('/bin/arch-audit', '/usr/lib/libstdc++.so.6'), ('/bin/arch-audit', '/usr/lib/libm.so.6'), ('/bin/arch-audit', '/usr/lib/libgcc_s.so.1'), ('/bin/arch-audit', '/usr/lib/libpthread.so.0'), ('/bin/arch-audit', '/usr/lib/libc.so.6'), ('/bin/arch-audit', '/usr/lib/libgmodule-2.0.so.0'), ('/bin/arch-audit', '/usr/lib/libharfbuzz.so.0'), ('/bin/arch-audit', '/usr/lib/libpangoft2-1.0.so.0'), ('/bin/arch-audit', '/usr/lib/libfontconfig.so.1'), ('/bin/arch-audit', '/usr/lib/libfreetype.so.6'), ('/bin/arch-audit', '/usr/lib/libfribidi.so.0'), ('/bin/arch-audit', '/usr/lib/libcairo-gobject.so.2'), ('/bin/arch-audit', '/usr/lib/libgdk_pixbuf-2.0.so.0'), ('/bin/arch-audit', '/usr/lib/libepoxy.so.0'), ('/bin/arch-audit', '/usr/lib/libXi.so.6'), ('/bin/arch-audit', '/usr/lib/libX11.so.6'), ('/bin/arch-audit', '/usr/lib/libatk-bridge-2.0.so.0'), ('/bin/arch-audit', '/usr/lib/libcloudproviders.so.0'), ('/bin/arch-audit', '/usr/lib/libXfixes.so.3'), ('/bin/arch-audit', '/usr/lib/librt.so.1'), ('/bin/arch-audit', '/usr/lib/libxkbcommon.so.0'), ('/bin/arch-audit', '/usr/lib/libwayland-client.so.0'), ('/bin/arch-audit', '/usr/lib/libwayland-cursor.so.0'), ('/bin/arch-audit', '/usr/lib/libwayland-egl.so.1'), ('/bin/arch-audit', '/usr/lib/libXext.so.6'), ('/bin/arch-audit', '/usr/lib/libXcursor.so.1'), ('/bin/arch-audit', '/usr/lib/libXdamage.so.1'), ('/bin/arch-audit', '/usr/lib/libXcomposite.so.1'), ('/bin/arch-audit', '/usr/lib/libXrandr.so.2'), ('/bin/arch-audit', '/usr/lib/libXinerama.so.1'), ('/bin/arch-audit', '/usr/lib/libthai.so.0'), ('/bin/arch-audit', '/usr/lib/libpixman-1.so.0'), ('/bin/arch-audit', '/usr/lib/libpng16.so.16'), ('/bin/arch-audit', '/usr/lib/libxcb-shm.so.0'), ('/bin/arch-audit', '/usr/lib/libxcb.so.1'), ('/bin/arch-audit', '/usr/lib/libxcb-render.so.0'), ('/bin/arch-audit', '/usr/lib/libXrender.so.1'), ('/bin/arch-audit', '/usr/lib/libmount.so.1'), ('/bin/arch-audit', '/usr/lib/libresolv.so.2'), ('/bin/arch-audit', '/usr/lib/libffi.so.7'), ('/bin/arch-audit', '/usr/lib/libpcre.so.1'), ('/bin/arch-audit', '/usr/lib/libp11-kit.so.0'), ('/bin/arch-audit', '/usr/lib/libidn2.so.0'), ('/bin/arch-audit', '/usr/lib/libunistring.so.2'), ('/bin/arch-audit', '/usr/lib/libtasn1.so.6'), ('/bin/arch-audit', '/usr/lib/libnettle.so.8'), ('/bin/arch-audit', '/usr/lib/libhogweed.so.6'), ('/bin/arch-audit', '/usr/lib/libgmp.so.10'), ('/bin/arch-audit', '/usr/lib64/ld-linux-x86-64.so.2'), ('/bin/arch-audit', '/usr/lib/libdl.so.2'), ('/bin/arch-audit', '/usr/lib/libgraphite2.so.3'), ('/bin/arch-audit', '/usr/lib/libexpat.so.1'), ('/bin/arch-audit', '/usr/lib/libbz2.so.1.0'), ('/bin/arch-audit', '/usr/lib/libdbus-1.so.3'), ('/bin/arch-audit', '/usr/lib/libatspi.so.0'), ('/bin/arch-audit', '/usr/lib/libdatrie.so.1'), ('/bin/arch-audit', '/usr/lib/libXau.so.6'), ('/bin/arch-audit', '/usr/lib/libXdmcp.so.6'), ('/bin/arch-audit', '/usr/lib/libblkid.so.1'), ('/bin/arch-audit', '/usr/lib/libsystemd.so.0'), ('/bin/arch-audit', '/usr/lib/liblzma.so.5'), ('/bin/arch-audit', '/usr/lib/libzstd.so.1'), ('/bin/arch-audit', '/usr/lib/liblz4.so.1'), ('/bin/arch-audit', '/usr/lib/libgcrypt.so.20'), ('/bin/arch-audit', '/usr/lib/libgpg-error.so.0'), ('/usr/lib/libgtk-3.so.0', 'usr/liblibgdk-3.so.0'), ('/usr/lib/libgtk-3.so.0', 'usr/liblibgmodule-2.0.so.0'), ('/usr/lib/libgtk-3.so.0', 'usr/liblibglib-2.0.so.0'), ('/usr/lib/libgtk-3.so.0', 'usr/liblibgobject-2.0.so.0'), ('/usr/lib/libgtk-3.so.0', 'usr/liblibgio-2.0.so.0'), ('/usr/lib/libgtk-3.so.0', 'usr/liblibpangocairo-1.0.so.0'), ('/usr/lib/libgtk-3.so.0', 'usr/liblibpango-1.0.so.0'), ('/usr/lib/libgtk-3.so.0', 'usr/liblibharfbuzz.so.0'), ('/usr/lib/libgtk-3.so.0', 'usr/liblibcairo.so.2'), ('/usr/lib/libgtk-3.so.0', 'usr/liblibpangoft2-1.0.so.0'), ('/usr/lib/libgtk-3.so.0', 'usr/liblibfontconfig.so.1'), ('/usr/lib/libgtk-3.so.0', 'usr/liblibfreetype.so.6'), ('/usr/lib/libgtk-3.so.0', 'usr/liblibfribidi.so.0'), ('/usr/lib/libgtk-3.so.0', 'usr/liblibcairo-gobject.so.2'), ('/usr/lib/libgtk-3.so.0', 'usr/liblibgdk_pixbuf-2.0.so.0'), ('/usr/lib/libgtk-3.so.0', 'usr/liblibatk-1.0.so.0'), ('/usr/lib/libgtk-3.so.0', 'usr/liblibepoxy.so.0'), ('/usr/lib/libgtk-3.so.0', 'usr/liblibm.so.6 '), ('/usr/lib/libgtk-3.so.0', 'usr/liblibXi.so.6'), ('/usr/lib/libgtk-3.so.0', 'usr/liblibX11.so.6'), ('/usr/lib/libgtk-3.so.0', 'usr/liblibatk-bridge-2.0.so.0'), ('/usr/lib/libgtk-3.so.0', 'usr/liblibcloudproviders.so.0'), ('/usr/lib/libgtk-3.so.0', 'usr/liblibXfixes.so.3'), ('/usr/lib/libgtk-3.so.0', 'usr/liblibpthread.so.0'), ('/usr/lib/libgtk-3.so.0', 'usr/liblibc.so.6 '), ('usr/liblibgmodule-2.0.so.0', '/usr/lib/libgio-2.0.so.0'), ('usr/liblibgmodule-2.0.so.0', '/usr/lib/libgdk_pixbuf-2.0.so.0'), ('usr/liblibglib-2.0.so.0', '/usr/lib/libgdk-3.so.0'), ('usr/liblibglib-2.0.so.0', '/usr/lib/libpangocairo-1.0.so.0'), ('usr/liblibglib-2.0.so.0', '/usr/lib/libpango-1.0.so.0'), ('usr/liblibglib-2.0.so.0', '/usr/lib/libatk-1.0.so.0'), ('usr/liblibglib-2.0.so.0', '/usr/lib/libgio-2.0.so.0'), ('usr/liblibglib-2.0.so.0', '/usr/lib/libgobject-2.0.so.0'), ('usr/liblibglib-2.0.so.0', '/usr/lib/libgmodule-2.0.so.0'), ('usr/liblibglib-2.0.so.0', '/usr/lib/libharfbuzz.so.0'), ('usr/liblibglib-2.0.so.0', '/usr/lib/libpangoft2-1.0.so.0'), ('usr/liblibglib-2.0.so.0', '/usr/lib/libcairo-gobject.so.2'), ('usr/liblibglib-2.0.so.0', '/usr/lib/libgdk_pixbuf-2.0.so.0'), ('usr/liblibglib-2.0.so.0', '/usr/lib/libatk-bridge-2.0.so.0'), ('usr/liblibglib-2.0.so.0', '/usr/lib/libcloudproviders.so.0'), ('usr/liblibglib-2.0.so.0', '/usr/lib/libatspi.so.0'), ('usr/liblibgobject-2.0.so.0', '/usr/lib/libgdk-3.so.0'), ('usr/liblibgobject-2.0.so.0', '/usr/lib/libpangocairo-1.0.so.0'), ('usr/liblibgobject-2.0.so.0', '/usr/lib/libpango-1.0.so.0'), ('usr/liblibgobject-2.0.so.0', '/usr/lib/libatk-1.0.so.0'), ('usr/liblibgobject-2.0.so.0', '/usr/lib/libgio-2.0.so.0'), ('usr/liblibgobject-2.0.so.0', '/usr/lib/libpangoft2-1.0.so.0'), ('usr/liblibgobject-2.0.so.0', '/usr/lib/libcairo-gobject.so.2'), ('usr/liblibgobject-2.0.so.0', '/usr/lib/libgdk_pixbuf-2.0.so.0'), ('usr/liblibgobject-2.0.so.0', '/usr/lib/libatk-bridge-2.0.so.0'), ('usr/liblibgobject-2.0.so.0', '/usr/lib/libcloudproviders.so.0'), ('usr/liblibgobject-2.0.so.0', '/usr/lib/libatspi.so.0'), ('usr/liblibgio-2.0.so.0', '/usr/lib/libgdk-3.so.0'), ('usr/liblibgio-2.0.so.0', '/usr/lib/libpango-1.0.so.0'), ('usr/liblibgio-2.0.so.0', '/usr/lib/libpangoft2-1.0.so.0'), ('usr/liblibgio-2.0.so.0', '/usr/lib/libgdk_pixbuf-2.0.so.0'), ('usr/liblibgio-2.0.so.0', '/usr/lib/libcloudproviders.so.0'), ('usr/liblibpangocairo-1.0.so.0', '/usr/lib/libgdk-3.so.0'), ('usr/liblibpango-1.0.so.0', '/usr/lib/libgdk-3.so.0'), ('usr/liblibpango-1.0.so.0', '/usr/lib/libpangocairo-1.0.so.0'), ('usr/liblibpango-1.0.so.0', '/usr/lib/libpangoft2-1.0.so.0'), ('usr/liblibharfbuzz.so.0', '/usr/lib/libpango-1.0.so.0'), ('usr/liblibharfbuzz.so.0', '/usr/lib/libpangoft2-1.0.so.0'), ('usr/liblibharfbuzz.so.0', '/usr/lib/libfreetype.so.6'), ('usr/liblibcairo.so.2', '/usr/lib/libgdk-3.so.0'), ('usr/liblibcairo.so.2', '/usr/lib/libpangocairo-1.0.so.0'), ('usr/liblibcairo.so.2', '/usr/lib/libcairo-gobject.so.2'), ('usr/liblibpangoft2-1.0.so.0', '/usr/lib/libpangocairo-1.0.so.0'), ('usr/liblibfontconfig.so.1', '/usr/lib/libgdk-3.so.0'), ('usr/liblibfontconfig.so.1', '/usr/lib/libpangocairo-1.0.so.0'), ('usr/liblibfontconfig.so.1', '/usr/lib/libcairo.so.2'), ('usr/liblibfontconfig.so.1', '/usr/lib/libpangoft2-1.0.so.0'), ('usr/liblibfreetype.so.6', '/usr/lib/libcairo.so.2'), ('usr/liblibfreetype.so.6', '/usr/lib/libharfbuzz.so.0'), ('usr/liblibfreetype.so.6', '/usr/lib/libpangoft2-1.0.so.0'), ('usr/liblibfreetype.so.6', '/usr/lib/libfontconfig.so.1'), ('usr/liblibfribidi.so.0', '/usr/lib/libgdk-3.so.0'), ('usr/liblibfribidi.so.0', '/usr/lib/libpango-1.0.so.0'), ('usr/liblibcairo-gobject.so.2', '/usr/lib/libgdk-3.so.0'), ('usr/liblibgdk_pixbuf-2.0.so.0', '/usr/lib/libgdk-3.so.0'), ('usr/liblibatk-1.0.so.0', '/usr/lib/libatk-bridge-2.0.so.0'), ('usr/liblibepoxy.so.0', '/usr/lib/libgdk-3.so.0'), ('usr/liblibm.so.6 ', '/usr/lib/libgdk-3.so.0'), ('usr/liblibm.so.6 ', '/usr/lib/libpangocairo-1.0.so.0'), ('usr/liblibm.so.6 ', '/usr/lib/libpango-1.0.so.0'), ('usr/liblibm.so.6 ', '/usr/lib/libcairo.so.2'), ('usr/liblibm.so.6 ', '/usr/lib/libstdc++.so.6'), ('usr/liblibm.so.6 ', '/usr/lib/libgdk_pixbuf-2.0.so.0'), ('usr/liblibm.so.6 ', '/usr/lib/libpixman-1.so.0'), ('usr/liblibm.so.6 ', '/usr/lib/libpng16.so.16'), ('usr/liblibXi.so.6', '/usr/lib/libgdk-3.so.0'), ('usr/liblibX11.so.6', '/usr/lib/libgdk-3.so.0'), ('usr/liblibX11.so.6', '/usr/lib/libcairo.so.2'), ('usr/liblibX11.so.6', '/usr/lib/libXi.so.6'), ('usr/liblibX11.so.6', '/usr/lib/libXfixes.so.3'), ('usr/liblibX11.so.6', '/usr/lib/libXext.so.6'), ('usr/liblibX11.so.6', '/usr/lib/libXcursor.so.1'), ('usr/liblibX11.so.6', '/usr/lib/libXdamage.so.1'), ('usr/liblibX11.so.6', '/usr/lib/libXcomposite.so.1'), ('usr/liblibX11.so.6', '/usr/lib/libXrandr.so.2'), ('usr/liblibX11.so.6', '/usr/lib/libXinerama.so.1'), ('usr/liblibX11.so.6', '/usr/lib/libXrender.so.1'), ('usr/liblibX11.so.6', '/usr/lib/libatspi.so.0'), ('usr/liblibXfixes.so.3', '/usr/lib/libgdk-3.so.0'), ('usr/liblibXfixes.so.3', '/usr/lib/libXcursor.so.1'), ('usr/liblibXfixes.so.3', '/usr/lib/libXdamage.so.1'), ('usr/liblibpthread.so.0', '/usr/lib/libpango-1.0.so.0'), ('usr/liblibpthread.so.0', '/usr/lib/libcairo.so.2'), ('usr/liblibpthread.so.0', '/usr/lib/libglib-2.0.so.0'), ('usr/liblibpthread.so.0', '/usr/lib/libpcre2-8.so.0'), ('usr/liblibpthread.so.0', '/usr/lib/libgnutls.so.30'), ('usr/liblibpthread.so.0', '/usr/lib/libpangoft2-1.0.so.0'), ('usr/liblibpthread.so.0', '/usr/lib/libfontconfig.so.1'), ('usr/liblibpthread.so.0', '/usr/lib/libgdk_pixbuf-2.0.so.0'), ('usr/liblibpthread.so.0', '/usr/lib/librt.so.1'), ('usr/liblibpthread.so.0', '/usr/lib/libwayland-client.so.0'), ('usr/liblibpthread.so.0', '/usr/lib/libpcre.so.1'), ('usr/liblibpthread.so.0', '/usr/lib/libdbus-1.so.3'), ('usr/liblibpthread.so.0', '/usr/lib/libsystemd.so.0'), ('usr/liblibpthread.so.0', '/usr/lib/liblzma.so.5'), ('usr/liblibc.so.6 ', '/usr/lib/libgdk-3.so.0'), ('usr/liblibc.so.6 ', '/usr/lib/libpangocairo-1.0.so.0'), ('usr/liblibc.so.6 ', '/usr/lib/libpango-1.0.so.0'), ('usr/liblibc.so.6 ', '/usr/lib/libatk-1.0.so.0'), ('usr/liblibc.so.6 ', '/usr/lib/libcairo.so.2'), ('usr/liblibc.so.6 ', '/usr/lib/libgio-2.0.so.0'), ('usr/liblibc.so.6 ', '/usr/lib/libgobject-2.0.so.0'), ('usr/liblibc.so.6 ', '/usr/lib/libglib-2.0.so.0'), ('usr/liblibc.so.6 ', '/usr/lib/libz.so.1'), ('usr/liblibc.so.6 ', '/usr/lib/libpcre2-8.so.0'), ('usr/liblibc.so.6 ', '/usr/lib/libgnutls.so.30'), ('usr/liblibc.so.6 ', '/usr/lib/libstdc++.so.6'), ('usr/liblibc.so.6 ', '/usr/lib/libm.so.6'), ('usr/liblibc.so.6 ', '/usr/lib/libgcc_s.so.1'), ('usr/liblibc.so.6 ', '/usr/lib/libpthread.so.0'), ('usr/liblibc.so.6 ', '/usr/lib/libgmodule-2.0.so.0'), ('usr/liblibc.so.6 ', '/usr/lib/libharfbuzz.so.0'), ('usr/liblibc.so.6 ', '/usr/lib/libpangoft2-1.0.so.0'), ('usr/liblibc.so.6 ', '/usr/lib/libfontconfig.so.1'), ('usr/liblibc.so.6 ', '/usr/lib/libfreetype.so.6'), ('usr/liblibc.so.6 ', '/usr/lib/libfribidi.so.0'), ('usr/liblibc.so.6 ', '/usr/lib/libgdk_pixbuf-2.0.so.0'), ('usr/liblibc.so.6 ', '/usr/lib/libepoxy.so.0'), ('usr/liblibc.so.6 ', '/usr/lib/libXi.so.6'), ('usr/liblibc.so.6 ', '/usr/lib/libX11.so.6'), ('usr/liblibc.so.6 ', '/usr/lib/libatk-bridge-2.0.so.0'), ('usr/liblibc.so.6 ', '/usr/lib/libcloudproviders.so.0'), ('usr/liblibc.so.6 ', '/usr/lib/libXfixes.so.3'), ('usr/liblibc.so.6 ', '/usr/lib/librt.so.1'), ('usr/liblibc.so.6 ', '/usr/lib/libxkbcommon.so.0'), ('usr/liblibc.so.6 ', '/usr/lib/libwayland-client.so.0'), ('usr/liblibc.so.6 ', '/usr/lib/libwayland-cursor.so.0'), ('usr/liblibc.so.6 ', '/usr/lib/libwayland-egl.so.1'), ('usr/liblibc.so.6 ', '/usr/lib/libXext.so.6'), ('usr/liblibc.so.6 ', '/usr/lib/libXcursor.so.1'), ('usr/liblibc.so.6 ', '/usr/lib/libXdamage.so.1'), ('usr/liblibc.so.6 ', '/usr/lib/libXcomposite.so.1'), ('usr/liblibc.so.6 ', '/usr/lib/libXrandr.so.2'), ('usr/liblibc.so.6 ', '/usr/lib/libXinerama.so.1'), ('usr/liblibc.so.6 ', '/usr/lib/libthai.so.0'), ('usr/liblibc.so.6 ', '/usr/lib/libpixman-1.so.0'), ('usr/liblibc.so.6 ', '/usr/lib/libpng16.so.16'), ('usr/liblibc.so.6 ', '/usr/lib/libxcb-shm.so.0'), ('usr/liblibc.so.6 ', '/usr/lib/libxcb.so.1'), ('usr/liblibc.so.6 ', '/usr/lib/libxcb-render.so.0'), ('usr/liblibc.so.6 ', '/usr/lib/libXrender.so.1'), ('usr/liblibc.so.6 ', '/usr/lib/libmount.so.1'), ('usr/liblibc.so.6 ', '/usr/lib/libresolv.so.2'), ('usr/liblibc.so.6 ', '/usr/lib/libffi.so.7'), ('usr/liblibc.so.6 ', '/usr/lib/libpcre.so.1'), ('usr/liblibc.so.6 ', '/usr/lib/libp11-kit.so.0'), ('usr/liblibc.so.6 ', '/usr/lib/libidn2.so.0'), ('usr/liblibc.so.6 ', '/usr/lib/libunistring.so.2'), ('usr/liblibc.so.6 ', '/usr/lib/libtasn1.so.6'), ('usr/liblibc.so.6 ', '/usr/lib/libnettle.so.8'), ('usr/liblibc.so.6 ', '/usr/lib/libhogweed.so.6'), ('usr/liblibc.so.6 ', '/usr/lib/libgmp.so.10'), ('usr/liblibc.so.6 ', '/usr/lib/libdl.so.2'), ('usr/liblibc.so.6 ', '/usr/lib/libgraphite2.so.3'), ('usr/liblibc.so.6 ', '/usr/lib/libexpat.so.1'), ('usr/liblibc.so.6 ', '/usr/lib/libbz2.so.1.0'), ('usr/liblibc.so.6 ', '/usr/lib/libdbus-1.so.3'), ('usr/liblibc.so.6 ', '/usr/lib/libatspi.so.0'), ('usr/liblibc.so.6 ', '/usr/lib/libdatrie.so.1'), ('usr/liblibc.so.6 ', '/usr/lib/libXau.so.6'), ('usr/liblibc.so.6 ', '/usr/lib/libXdmcp.so.6'), ('usr/liblibc.so.6 ', '/usr/lib/libblkid.so.1'), ('usr/liblibc.so.6 ', '/usr/lib/libsystemd.so.0'), ('usr/liblibc.so.6 ', '/usr/lib/liblzma.so.5'), ('usr/liblibc.so.6 ', '/usr/lib/libzstd.so.1'), ('usr/liblibc.so.6 ', '/usr/lib/liblz4.so.1'), ('usr/liblibc.so.6 ', '/usr/lib/libgcrypt.so.20'), ('usr/liblibc.so.6 ', '/usr/lib/libgpg-error.so.0'), ('/usr/lib/libgdk-3.so.0', 'usr/liblibrt.so.1'), ('/usr/lib/libgdk-3.so.0', 'usr/liblibxkbcommon.so.0'), ('/usr/lib/libgdk-3.so.0', 'usr/liblibwayland-client.so.0'), ('/usr/lib/libgdk-3.so.0', 'usr/liblibwayland-cursor.so.0'), ('/usr/lib/libgdk-3.so.0', 'usr/liblibwayland-egl.so.1'), ('/usr/lib/libgdk-3.so.0', 'usr/liblibXext.so.6'), ('/usr/lib/libgdk-3.so.0', 'usr/liblibXcursor.so.1'), ('/usr/lib/libgdk-3.so.0', 'usr/liblibXdamage.so.1'), ('/usr/lib/libgdk-3.so.0', 'usr/liblibXcomposite.so.1'), ('/usr/lib/libgdk-3.so.0', 'usr/liblibXrandr.so.2'), ('/usr/lib/libgdk-3.so.0', 'usr/liblibXinerama.so.1'), ('usr/liblibrt.so.1', '/usr/lib/libmount.so.1'), ('usr/liblibrt.so.1', '/usr/lib/libsystemd.so.0'), ('usr/liblibwayland-client.so.0', '/usr/lib/libwayland-cursor.so.0'), ('usr/liblibXext.so.6', '/usr/lib/libcairo.so.2'), ('usr/liblibXext.so.6', '/usr/lib/libXi.so.6'), ('usr/liblibXext.so.6', '/usr/lib/libXrandr.so.2'), ('usr/liblibXext.so.6', '/usr/lib/libXinerama.so.1'), ('/usr/lib/libpango-1.0.so.0', 'usr/liblibthai.so.0'), ('/usr/lib/libcairo.so.2', 'usr/liblibpixman-1.so.0'), ('/usr/lib/libcairo.so.2', 'usr/liblibpng16.so.16'), ('/usr/lib/libcairo.so.2', 'usr/liblibxcb-shm.so.0'), ('/usr/lib/libcairo.so.2', 'usr/liblibxcb.so.1'), ('/usr/lib/libcairo.so.2', 'usr/liblibxcb-render.so.0'), ('/usr/lib/libcairo.so.2', 'usr/liblibXrender.so.1'), ('/usr/lib/libcairo.so.2', 'usr/liblibz.so.1 '), ('usr/liblibpng16.so.16', '/usr/lib/libfreetype.so.6'), ('usr/liblibxcb.so.1', '/usr/lib/libX11.so.6'), ('usr/liblibxcb.so.1', '/usr/lib/libxcb-shm.so.0'), ('usr/liblibxcb.so.1', '/usr/lib/libxcb-render.so.0'), ('usr/liblibXrender.so.1', '/usr/lib/libXcursor.so.1'), ('usr/liblibXrender.so.1', '/usr/lib/libXrandr.so.2'), ('usr/liblibz.so.1 ', '/usr/lib/libgio-2.0.so.0'), ('usr/liblibz.so.1 ', '/usr/lib/libfreetype.so.6'), ('usr/liblibz.so.1 ', '/usr/lib/libpng16.so.16'), ('/usr/lib/libgio-2.0.so.0', 'usr/liblibmount.so.1'), ('/usr/lib/libgio-2.0.so.0', 'usr/liblibresolv.so.2'), ('/usr/lib/libgobject-2.0.so.0', 'usr/liblibffi.so.7'), ('usr/liblibffi.so.7', '/usr/lib/libwayland-client.so.0'), ('usr/liblibffi.so.7', '/usr/lib/libp11-kit.so.0'), ('/usr/lib/libglib-2.0.so.0', 'usr/liblibpcre.so.1'), ('/usr/lib/libgnutls.so.30', 'usr/liblibp11-kit.so.0'), ('/usr/lib/libgnutls.so.30', 'usr/liblibidn2.so.0'), ('/usr/lib/libgnutls.so.30', 'usr/liblibunistring.so.2'), ('/usr/lib/libgnutls.so.30', 'usr/liblibtasn1.so.6'), ('/usr/lib/libgnutls.so.30', 'usr/liblibnettle.so.8'), ('/usr/lib/libgnutls.so.30', 'usr/liblibhogweed.so.6'), ('/usr/lib/libgnutls.so.30', 'usr/liblibgmp.so.10'), ('/usr/lib/libgnutls.so.30', 'usr/libld-linux-x86-64.so.2'), ('usr/liblibunistring.so.2', '/usr/lib/libidn2.so.0'), ('usr/liblibnettle.so.8', '/usr/lib/libhogweed.so.6'), ('usr/liblibgmp.so.10', '/usr/lib/libhogweed.so.6'), ('usr/libld-linux-x86-64.so.2', '/usr/lib/libstdc++.so.6'), ('usr/libld-linux-x86-64.so.2', '/usr/lib/libm.so.6'), ('usr/libld-linux-x86-64.so.2', '/usr/lib/libpthread.so.0'), ('usr/libld-linux-x86-64.so.2', '/usr/lib/libc.so.6'), ('usr/libld-linux-x86-64.so.2', '/usr/lib/libpixman-1.so.0'), ('usr/libld-linux-x86-64.so.2', '/usr/lib/libmount.so.1'), ('usr/libld-linux-x86-64.so.2', '/usr/lib/libp11-kit.so.0'), ('usr/libld-linux-x86-64.so.2', '/usr/lib/libdl.so.2'), ('usr/libld-linux-x86-64.so.2', '/usr/lib/libblkid.so.1'), ('usr/libld-linux-x86-64.so.2', '/usr/lib/libsystemd.so.0'), ('/usr/lib/libstdc++.so.6', 'usr/liblibgcc_s.so.1'), ('/usr/lib/libgmodule-2.0.so.0', 'usr/liblibdl.so.2'), ('usr/liblibdl.so.2', '/usr/lib/libepoxy.so.0'), ('usr/liblibdl.so.2', '/usr/lib/libX11.so.6'), ('usr/liblibdl.so.2', '/usr/lib/libp11-kit.so.0'), ('/usr/lib/libharfbuzz.so.0', 'usr/liblibgraphite2.so.3'), ('/usr/lib/libfontconfig.so.1', 'usr/liblibexpat.so.1'), ('/usr/lib/libfreetype.so.6', 'usr/liblibbz2.so.1.0'), ('/usr/lib/libatk-bridge-2.0.so.0', 'usr/liblibdbus-1.so.3'), ('/usr/lib/libatk-bridge-2.0.so.0', 'usr/liblibatspi.so.0'), ('usr/liblibdbus-1.so.3', '/usr/lib/libatspi.so.0'), ('/usr/lib/libthai.so.0', 'usr/liblibdatrie.so.1'), ('/usr/lib/libxcb-shm.so.0', 'usr/liblibXau.so.6'), ('/usr/lib/libxcb-shm.so.0', 'usr/liblibXdmcp.so.6'), ('usr/liblibXau.so.6', '/usr/lib/libxcb.so.1'), ('usr/liblibXau.so.6', '/usr/lib/libxcb-render.so.0'), ('usr/liblibXdmcp.so.6', '/usr/lib/libxcb.so.1'), ('usr/liblibXdmcp.so.6', '/usr/lib/libxcb-render.so.0'), ('/usr/lib/libmount.so.1', 'usr/liblibblkid.so.1'), ('/usr/lib/libdbus-1.so.3', 'usr/liblibsystemd.so.0'), ('/usr/lib/libsystemd.so.0', 'usr/libliblzma.so.5'), ('/usr/lib/libsystemd.so.0', 'usr/liblibzstd.so.1'), ('/usr/lib/libsystemd.so.0', 'usr/libliblz4.so.1'), ('/usr/lib/libsystemd.so.0', 'usr/liblibgcrypt.so.20'), ('/usr/lib/libgcrypt.so.20', 'usr/liblibgpg-error.so.0')])"
      ]
     },
     "execution_count": 4,
     "metadata": {},
     "output_type": "execute_result"
    }
   ],
   "source": [
    "G.edges"
   ]
  },
  {
   "cell_type": "code",
   "execution_count": 5,
   "metadata": {},
   "outputs": [],
   "source": [
    "nx.write_gexf(G,'gephi.gexf',version=\"1.2draft\")"
   ]
  },
  {
   "cell_type": "code",
   "execution_count": 1,
   "metadata": {},
   "outputs": [],
   "source": [
    "import pygraphviz\n"
   ]
  },
  {
   "cell_type": "code",
   "execution_count": 4,
   "metadata": {},
   "outputs": [],
   "source": [
    "G = nx.read_graphml('whole.graphml')"
   ]
  },
  {
   "cell_type": "code",
   "execution_count": 5,
   "metadata": {},
   "outputs": [],
   "source": [
    "nx.nx_agraph.write_dot(G,'whole.dot')"
   ]
  }
 ],
 "metadata": {
  "kernelspec": {
   "display_name": "Python 3",
   "language": "python",
   "name": "python3"
  },
  "language_info": {
   "codemirror_mode": {
    "name": "ipython",
    "version": 3
   },
   "file_extension": ".py",
   "mimetype": "text/x-python",
   "name": "python",
   "nbconvert_exporter": "python",
   "pygments_lexer": "ipython3",
   "version": "3.9.1"
  }
 },
 "nbformat": 4,
 "nbformat_minor": 4
}
